{
 "cells": [
  {
   "cell_type": "code",
   "execution_count": 1,
   "id": "8db3ef6d",
   "metadata": {},
   "outputs": [],
   "source": [
    "#importing warnings.\n",
    "\n",
    "import warnings\n",
    "warnings.filterwarnings(\"ignore\")"
   ]
  },
  {
   "cell_type": "code",
   "execution_count": 2,
   "id": "a4e00b37",
   "metadata": {},
   "outputs": [],
   "source": [
    "# importing package for sql.\n",
    "import mysql.connector"
   ]
  },
  {
   "cell_type": "code",
   "execution_count": 3,
   "id": "406c420d",
   "metadata": {},
   "outputs": [],
   "source": [
    "#importing useful libraries for analysis.\n",
    "\n",
    "import pandas as pd\n",
    "import numpy as np\n",
    "import matplotlib.pyplot as plt\n",
    "import seaborn as sns\n",
    "%matplotlib inline"
   ]
  },
  {
   "cell_type": "code",
   "execution_count": 4,
   "id": "6672de64",
   "metadata": {},
   "outputs": [],
   "source": [
    "# loading first file\n",
    "\n",
    "df1 = pd.read_excel('games.xlsx')"
   ]
  },
  {
   "cell_type": "code",
   "execution_count": 5,
   "id": "dc0cb3e7",
   "metadata": {},
   "outputs": [
    {
     "data": {
      "text/plain": [
       "(3268, 20)"
      ]
     },
     "execution_count": 5,
     "metadata": {},
     "output_type": "execute_result"
    }
   ],
   "source": [
    "#checking for number of rows and columns.\n",
    "df1.shape"
   ]
  },
  {
   "cell_type": "code",
   "execution_count": 6,
   "id": "3c1ab35e",
   "metadata": {},
   "outputs": [],
   "source": [
    "# before doing null value treatment, it is very important to speak to the client and your higher ups."
   ]
  },
  {
   "cell_type": "code",
   "execution_count": 7,
   "id": "709a0fb8",
   "metadata": {},
   "outputs": [
    {
     "data": {
      "text/plain": [
       "game_id                      0\n",
       "competition_id               0\n",
       "season                       0\n",
       "round                        0\n",
       "date                         0\n",
       "home_club_goals              0\n",
       "away_club_goals              0\n",
       "home_club_position         479\n",
       "away_club_position         479\n",
       "home_club_manager_name       5\n",
       "away_club_manager_name       5\n",
       "stadium                      0\n",
       "attendance                 115\n",
       "referee                      2\n",
       "home_club_formation       3268\n",
       "away_club_formation       3268\n",
       "home_club_name             110\n",
       "away_club_name              63\n",
       "aggregate                    0\n",
       "competition_type             0\n",
       "dtype: int64"
      ]
     },
     "execution_count": 7,
     "metadata": {},
     "output_type": "execute_result"
    }
   ],
   "source": [
    "#to check null values in columns.\n",
    "df1.isnull().sum()"
   ]
  },
  {
   "cell_type": "code",
   "execution_count": 8,
   "id": "65b0c9d8",
   "metadata": {},
   "outputs": [],
   "source": [
    "# home_club_formation and away_club_formation columns have 3268 out of 3268 null values.\n",
    "# we can drop these two columns."
   ]
  },
  {
   "cell_type": "code",
   "execution_count": 9,
   "id": "71510c21",
   "metadata": {},
   "outputs": [],
   "source": [
    "df1=df1.drop(\"home_club_formation\",axis=1)"
   ]
  },
  {
   "cell_type": "code",
   "execution_count": 10,
   "id": "aed5a81a",
   "metadata": {},
   "outputs": [],
   "source": [
    "df1=df1.drop(\"away_club_formation\",axis=1)"
   ]
  },
  {
   "cell_type": "code",
   "execution_count": 11,
   "id": "1b8d4e12",
   "metadata": {},
   "outputs": [
    {
     "data": {
      "text/plain": [
       "(3268, 18)"
      ]
     },
     "execution_count": 11,
     "metadata": {},
     "output_type": "execute_result"
    }
   ],
   "source": [
    "df1.shape"
   ]
  },
  {
   "cell_type": "code",
   "execution_count": 12,
   "id": "b4bfbafb",
   "metadata": {},
   "outputs": [],
   "source": [
    "#the shape has reduced from 20 to 18."
   ]
  },
  {
   "cell_type": "code",
   "execution_count": 13,
   "id": "67a4f8af",
   "metadata": {},
   "outputs": [
    {
     "data": {
      "text/plain": [
       "game_id                     0\n",
       "competition_id              0\n",
       "season                      0\n",
       "round                       0\n",
       "date                        0\n",
       "home_club_goals             0\n",
       "away_club_goals             0\n",
       "home_club_position        479\n",
       "away_club_position        479\n",
       "home_club_manager_name      5\n",
       "away_club_manager_name      5\n",
       "stadium                     0\n",
       "attendance                115\n",
       "referee                     2\n",
       "home_club_name            110\n",
       "away_club_name             63\n",
       "aggregate                   0\n",
       "competition_type            0\n",
       "dtype: int64"
      ]
     },
     "execution_count": 13,
     "metadata": {},
     "output_type": "execute_result"
    }
   ],
   "source": [
    "df1.isnull().sum()"
   ]
  },
  {
   "cell_type": "code",
   "execution_count": 14,
   "id": "555c992c",
   "metadata": {},
   "outputs": [
    {
     "data": {
      "text/plain": [
       "home_club_position    14.657283\n",
       "away_club_position    14.657283\n",
       "attendance             3.518972\n",
       "home_club_name         3.365973\n",
       "away_club_name         1.927785\n",
       "dtype: float64"
      ]
     },
     "execution_count": 14,
     "metadata": {},
     "output_type": "execute_result"
    }
   ],
   "source": [
    "# so now lets check the percentage of null values for each column\n",
    "# if the the null values are above a certain percentage, we can drop those columns.Because too many null values can disturb our analysis.\n",
    "\n",
    "nullval=(df1.isnull().sum()/len(df1)*100).sort_values(ascending = False)\n",
    "nullval.head()"
   ]
  },
  {
   "cell_type": "code",
   "execution_count": 15,
   "id": "b94db33e",
   "metadata": {},
   "outputs": [],
   "source": [
    "#since the percentage of null values in any column is not greater than 30%, we will not drop any column."
   ]
  },
  {
   "cell_type": "code",
   "execution_count": 16,
   "id": "afd635b2",
   "metadata": {},
   "outputs": [],
   "source": [
    "#loading second file\n",
    "\n",
    "df2 = pd.read_excel('game_events.xlsx')"
   ]
  },
  {
   "cell_type": "code",
   "execution_count": 17,
   "id": "8b5f35ad",
   "metadata": {},
   "outputs": [
    {
     "data": {
      "text/plain": [
       "(1849, 9)"
      ]
     },
     "execution_count": 17,
     "metadata": {},
     "output_type": "execute_result"
    }
   ],
   "source": [
    "df2.shape"
   ]
  },
  {
   "cell_type": "code",
   "execution_count": 18,
   "id": "eaf59069",
   "metadata": {},
   "outputs": [
    {
     "data": {
      "text/plain": [
       "game_event_id          0\n",
       "date                   0\n",
       "game_id                0\n",
       "minute                 0\n",
       "type                   0\n",
       "player_id              0\n",
       "description          933\n",
       "player_in_id         694\n",
       "player_assist_id    1709\n",
       "dtype: int64"
      ]
     },
     "execution_count": 18,
     "metadata": {},
     "output_type": "execute_result"
    }
   ],
   "source": [
    "df2.isnull().sum()"
   ]
  },
  {
   "cell_type": "code",
   "execution_count": 19,
   "id": "99dee6d4",
   "metadata": {},
   "outputs": [
    {
     "data": {
      "text/plain": [
       "player_assist_id    92.428340\n",
       "description         50.459708\n",
       "player_in_id        37.533802\n",
       "game_event_id        0.000000\n",
       "date                 0.000000\n",
       "game_id              0.000000\n",
       "minute               0.000000\n",
       "type                 0.000000\n",
       "player_id            0.000000\n",
       "dtype: float64"
      ]
     },
     "execution_count": 19,
     "metadata": {},
     "output_type": "execute_result"
    }
   ],
   "source": [
    "nullval2=(df2.isnull().sum()/len(df2)*100).sort_values(ascending = False)\n",
    "nullval2"
   ]
  },
  {
   "cell_type": "code",
   "execution_count": 20,
   "id": "e0c97323",
   "metadata": {},
   "outputs": [],
   "source": [
    "#we will drop the columns which have above 30% of null values\n",
    "\n",
    "df2=df2.drop(\"player_assist_id\",axis=1)\n",
    "df2=df2.drop(\"description\",axis=1)\n",
    "df2=df2.drop(\"player_in_id\",axis=1)"
   ]
  },
  {
   "cell_type": "code",
   "execution_count": 21,
   "id": "579c4b3b",
   "metadata": {},
   "outputs": [
    {
     "data": {
      "text/html": [
       "<div>\n",
       "<style scoped>\n",
       "    .dataframe tbody tr th:only-of-type {\n",
       "        vertical-align: middle;\n",
       "    }\n",
       "\n",
       "    .dataframe tbody tr th {\n",
       "        vertical-align: top;\n",
       "    }\n",
       "\n",
       "    .dataframe thead th {\n",
       "        text-align: right;\n",
       "    }\n",
       "</style>\n",
       "<table border=\"1\" class=\"dataframe\">\n",
       "  <thead>\n",
       "    <tr style=\"text-align: right;\">\n",
       "      <th></th>\n",
       "      <th>game_event_id</th>\n",
       "      <th>date</th>\n",
       "      <th>game_id</th>\n",
       "      <th>minute</th>\n",
       "      <th>type</th>\n",
       "      <th>player_id</th>\n",
       "    </tr>\n",
       "  </thead>\n",
       "  <tbody>\n",
       "    <tr>\n",
       "      <th>0</th>\n",
       "      <td>c6a3c088ed8a38d4ce074dd73b20d3da</td>\n",
       "      <td>2012-08-19</td>\n",
       "      <td>2221641</td>\n",
       "      <td>62</td>\n",
       "      <td>Substitutions</td>\n",
       "      <td>1335</td>\n",
       "    </tr>\n",
       "    <tr>\n",
       "      <th>1</th>\n",
       "      <td>02d605a5c2dc4f9a6721daa583fa5405</td>\n",
       "      <td>2012-08-26</td>\n",
       "      <td>2222536</td>\n",
       "      <td>54</td>\n",
       "      <td>Cards</td>\n",
       "      <td>1321</td>\n",
       "    </tr>\n",
       "    <tr>\n",
       "      <th>2</th>\n",
       "      <td>b56c2e2e087cddb3cfe9e3d340975df9</td>\n",
       "      <td>2012-11-18</td>\n",
       "      <td>2222707</td>\n",
       "      <td>79</td>\n",
       "      <td>Substitutions</td>\n",
       "      <td>104203</td>\n",
       "    </tr>\n",
       "    <tr>\n",
       "      <th>3</th>\n",
       "      <td>4a15d1fff4f476f48bb60092c61641d5</td>\n",
       "      <td>2012-11-23</td>\n",
       "      <td>2222721</td>\n",
       "      <td>72</td>\n",
       "      <td>Substitutions</td>\n",
       "      <td>104203</td>\n",
       "    </tr>\n",
       "    <tr>\n",
       "      <th>4</th>\n",
       "      <td>daa97877f7edf2fda885b411d7197921</td>\n",
       "      <td>2013-05-17</td>\n",
       "      <td>2222782</td>\n",
       "      <td>63</td>\n",
       "      <td>Goals</td>\n",
       "      <td>104203</td>\n",
       "    </tr>\n",
       "  </tbody>\n",
       "</table>\n",
       "</div>"
      ],
      "text/plain": [
       "                      game_event_id       date  game_id  minute  \\\n",
       "0  c6a3c088ed8a38d4ce074dd73b20d3da 2012-08-19  2221641      62   \n",
       "1  02d605a5c2dc4f9a6721daa583fa5405 2012-08-26  2222536      54   \n",
       "2  b56c2e2e087cddb3cfe9e3d340975df9 2012-11-18  2222707      79   \n",
       "3  4a15d1fff4f476f48bb60092c61641d5 2012-11-23  2222721      72   \n",
       "4  daa97877f7edf2fda885b411d7197921 2013-05-17  2222782      63   \n",
       "\n",
       "            type  player_id  \n",
       "0  Substitutions       1335  \n",
       "1          Cards       1321  \n",
       "2  Substitutions     104203  \n",
       "3  Substitutions     104203  \n",
       "4          Goals     104203  "
      ]
     },
     "execution_count": 21,
     "metadata": {},
     "output_type": "execute_result"
    }
   ],
   "source": [
    "df2.head()"
   ]
  },
  {
   "cell_type": "code",
   "execution_count": 22,
   "id": "16cd180f",
   "metadata": {},
   "outputs": [
    {
     "data": {
      "text/html": [
       "<div>\n",
       "<style scoped>\n",
       "    .dataframe tbody tr th:only-of-type {\n",
       "        vertical-align: middle;\n",
       "    }\n",
       "\n",
       "    .dataframe tbody tr th {\n",
       "        vertical-align: top;\n",
       "    }\n",
       "\n",
       "    .dataframe thead th {\n",
       "        text-align: right;\n",
       "    }\n",
       "</style>\n",
       "<table border=\"1\" class=\"dataframe\">\n",
       "  <thead>\n",
       "    <tr style=\"text-align: right;\">\n",
       "      <th></th>\n",
       "      <th>game_lineups_id</th>\n",
       "      <th>game_id</th>\n",
       "      <th>type</th>\n",
       "      <th>number</th>\n",
       "      <th>player_id</th>\n",
       "      <th>player_name</th>\n",
       "      <th>team_captain</th>\n",
       "      <th>position</th>\n",
       "    </tr>\n",
       "  </thead>\n",
       "  <tbody>\n",
       "    <tr>\n",
       "      <th>0</th>\n",
       "      <td>f2570d1504fc02f4b6c7608e8dcf89a3</td>\n",
       "      <td>4087925</td>\n",
       "      <td>substitutes</td>\n",
       "      <td>34</td>\n",
       "      <td>242284</td>\n",
       "      <td>Ethan Horvath</td>\n",
       "      <td>0</td>\n",
       "      <td>Goalkeeper</td>\n",
       "    </tr>\n",
       "    <tr>\n",
       "      <th>1</th>\n",
       "      <td>f5f0da93ea8e1d8bdd799658e7c8f7cb</td>\n",
       "      <td>4087928</td>\n",
       "      <td>starting_lineup</td>\n",
       "      <td>13</td>\n",
       "      <td>145466</td>\n",
       "      <td>Tim Ream</td>\n",
       "      <td>0</td>\n",
       "      <td>Centre-Back</td>\n",
       "    </tr>\n",
       "    <tr>\n",
       "      <th>2</th>\n",
       "      <td>31a4d12ec23d604779d909d26c1b5410</td>\n",
       "      <td>4087929</td>\n",
       "      <td>substitutes</td>\n",
       "      <td>26</td>\n",
       "      <td>578539</td>\n",
       "      <td>Chris Richards</td>\n",
       "      <td>0</td>\n",
       "      <td>Centre-Back</td>\n",
       "    </tr>\n",
       "    <tr>\n",
       "      <th>3</th>\n",
       "      <td>776dcbef98651450db76723cb7e3b4df</td>\n",
       "      <td>4087935</td>\n",
       "      <td>substitutes</td>\n",
       "      <td>26</td>\n",
       "      <td>578539</td>\n",
       "      <td>Chris Richards</td>\n",
       "      <td>0</td>\n",
       "      <td>Centre-Back</td>\n",
       "    </tr>\n",
       "    <tr>\n",
       "      <th>4</th>\n",
       "      <td>6a35ef7495303f29e7f85dbd54547fb1</td>\n",
       "      <td>4087936</td>\n",
       "      <td>starting_lineup</td>\n",
       "      <td>13</td>\n",
       "      <td>145466</td>\n",
       "      <td>Tim Ream</td>\n",
       "      <td>1</td>\n",
       "      <td>Centre-Back</td>\n",
       "    </tr>\n",
       "  </tbody>\n",
       "</table>\n",
       "</div>"
      ],
      "text/plain": [
       "                    game_lineups_id  game_id             type  number  \\\n",
       "0  f2570d1504fc02f4b6c7608e8dcf89a3  4087925      substitutes      34   \n",
       "1  f5f0da93ea8e1d8bdd799658e7c8f7cb  4087928  starting_lineup      13   \n",
       "2  31a4d12ec23d604779d909d26c1b5410  4087929      substitutes      26   \n",
       "3  776dcbef98651450db76723cb7e3b4df  4087935      substitutes      26   \n",
       "4  6a35ef7495303f29e7f85dbd54547fb1  4087936  starting_lineup      13   \n",
       "\n",
       "   player_id     player_name  team_captain     position  \n",
       "0     242284   Ethan Horvath             0   Goalkeeper  \n",
       "1     145466        Tim Ream             0  Centre-Back  \n",
       "2     578539  Chris Richards             0  Centre-Back  \n",
       "3     578539  Chris Richards             0  Centre-Back  \n",
       "4     145466        Tim Ream             1  Centre-Back  "
      ]
     },
     "execution_count": 22,
     "metadata": {},
     "output_type": "execute_result"
    }
   ],
   "source": [
    "#loading 3rd table.\n",
    "df3 = pd.read_excel('game_lineups.xlsx')\n",
    "df3.head()"
   ]
  },
  {
   "cell_type": "code",
   "execution_count": 23,
   "id": "51c7ca66",
   "metadata": {},
   "outputs": [
    {
     "data": {
      "text/plain": [
       "(219, 8)"
      ]
     },
     "execution_count": 23,
     "metadata": {},
     "output_type": "execute_result"
    }
   ],
   "source": [
    "df3.shape"
   ]
  },
  {
   "cell_type": "code",
   "execution_count": 24,
   "id": "9c7d6a77",
   "metadata": {},
   "outputs": [
    {
     "data": {
      "text/plain": [
       "game_lineups_id    0\n",
       "game_id            0\n",
       "type               0\n",
       "number             0\n",
       "player_id          0\n",
       "player_name        0\n",
       "team_captain       0\n",
       "position           0\n",
       "dtype: int64"
      ]
     },
     "execution_count": 24,
     "metadata": {},
     "output_type": "execute_result"
    }
   ],
   "source": [
    "df3.isnull().sum()"
   ]
  },
  {
   "cell_type": "code",
   "execution_count": 25,
   "id": "24a6a80d",
   "metadata": {},
   "outputs": [
    {
     "data": {
      "text/html": [
       "<div>\n",
       "<style scoped>\n",
       "    .dataframe tbody tr th:only-of-type {\n",
       "        vertical-align: middle;\n",
       "    }\n",
       "\n",
       "    .dataframe tbody tr th {\n",
       "        vertical-align: top;\n",
       "    }\n",
       "\n",
       "    .dataframe thead th {\n",
       "        text-align: right;\n",
       "    }\n",
       "</style>\n",
       "<table border=\"1\" class=\"dataframe\">\n",
       "  <thead>\n",
       "    <tr style=\"text-align: right;\">\n",
       "      <th></th>\n",
       "      <th>appearance_id</th>\n",
       "      <th>game_id</th>\n",
       "      <th>player_id</th>\n",
       "      <th>date</th>\n",
       "      <th>player_name</th>\n",
       "      <th>competition_id</th>\n",
       "      <th>yellow_cards</th>\n",
       "      <th>red_cards</th>\n",
       "      <th>goals</th>\n",
       "      <th>assists</th>\n",
       "      <th>minutes_played</th>\n",
       "    </tr>\n",
       "  </thead>\n",
       "  <tbody>\n",
       "    <tr>\n",
       "      <th>0</th>\n",
       "      <td>2224728_119169</td>\n",
       "      <td>2224728</td>\n",
       "      <td>119169</td>\n",
       "      <td>2012-07-13</td>\n",
       "      <td>Aron Johannsson</td>\n",
       "      <td>DK1</td>\n",
       "      <td>0</td>\n",
       "      <td>0</td>\n",
       "      <td>0</td>\n",
       "      <td>0</td>\n",
       "      <td>90</td>\n",
       "    </tr>\n",
       "    <tr>\n",
       "      <th>1</th>\n",
       "      <td>2224732_161244</td>\n",
       "      <td>2224732</td>\n",
       "      <td>161244</td>\n",
       "      <td>2012-07-14</td>\n",
       "      <td>Conor O'Brien</td>\n",
       "      <td>DK1</td>\n",
       "      <td>0</td>\n",
       "      <td>0</td>\n",
       "      <td>1</td>\n",
       "      <td>0</td>\n",
       "      <td>90</td>\n",
       "    </tr>\n",
       "    <tr>\n",
       "      <th>2</th>\n",
       "      <td>2224729_39467</td>\n",
       "      <td>2224729</td>\n",
       "      <td>39467</td>\n",
       "      <td>2012-07-15</td>\n",
       "      <td>Clarence Goodson</td>\n",
       "      <td>DK1</td>\n",
       "      <td>0</td>\n",
       "      <td>0</td>\n",
       "      <td>0</td>\n",
       "      <td>0</td>\n",
       "      <td>90</td>\n",
       "    </tr>\n",
       "    <tr>\n",
       "      <th>3</th>\n",
       "      <td>2232104_119169</td>\n",
       "      <td>2232104</td>\n",
       "      <td>119169</td>\n",
       "      <td>2012-07-19</td>\n",
       "      <td>Aron Johannsson</td>\n",
       "      <td>ELQ</td>\n",
       "      <td>0</td>\n",
       "      <td>0</td>\n",
       "      <td>0</td>\n",
       "      <td>0</td>\n",
       "      <td>74</td>\n",
       "    </tr>\n",
       "    <tr>\n",
       "      <th>4</th>\n",
       "      <td>2219794_39475</td>\n",
       "      <td>2219794</td>\n",
       "      <td>39475</td>\n",
       "      <td>2012-07-22</td>\n",
       "      <td>Sacha Kljestan</td>\n",
       "      <td>BESC</td>\n",
       "      <td>0</td>\n",
       "      <td>0</td>\n",
       "      <td>0</td>\n",
       "      <td>0</td>\n",
       "      <td>3</td>\n",
       "    </tr>\n",
       "  </tbody>\n",
       "</table>\n",
       "</div>"
      ],
      "text/plain": [
       "    appearance_id  game_id  player_id       date       player_name  \\\n",
       "0  2224728_119169  2224728     119169 2012-07-13   Aron Johannsson   \n",
       "1  2224732_161244  2224732     161244 2012-07-14     Conor O'Brien   \n",
       "2   2224729_39467  2224729      39467 2012-07-15  Clarence Goodson   \n",
       "3  2232104_119169  2232104     119169 2012-07-19   Aron Johannsson   \n",
       "4   2219794_39475  2219794      39475 2012-07-22    Sacha Kljestan   \n",
       "\n",
       "  competition_id  yellow_cards  red_cards  goals  assists  minutes_played  \n",
       "0            DK1             0          0      0        0              90  \n",
       "1            DK1             0          0      1        0              90  \n",
       "2            DK1             0          0      0        0              90  \n",
       "3            ELQ             0          0      0        0              74  \n",
       "4           BESC             0          0      0        0               3  "
      ]
     },
     "execution_count": 25,
     "metadata": {},
     "output_type": "execute_result"
    }
   ],
   "source": [
    "#loading the 4th data.\n",
    "df4 = pd.read_excel('appearances.xlsx')\n",
    "df4.head()"
   ]
  },
  {
   "cell_type": "code",
   "execution_count": 26,
   "id": "357d1b83",
   "metadata": {},
   "outputs": [
    {
     "data": {
      "text/plain": [
       "(3568, 11)"
      ]
     },
     "execution_count": 26,
     "metadata": {},
     "output_type": "execute_result"
    }
   ],
   "source": [
    "df4.shape"
   ]
  },
  {
   "cell_type": "code",
   "execution_count": 27,
   "id": "dadf320a",
   "metadata": {},
   "outputs": [
    {
     "data": {
      "text/plain": [
       "appearance_id     0\n",
       "game_id           0\n",
       "player_id         0\n",
       "date              0\n",
       "player_name       0\n",
       "competition_id    0\n",
       "yellow_cards      0\n",
       "red_cards         0\n",
       "goals             0\n",
       "assists           0\n",
       "minutes_played    0\n",
       "dtype: int64"
      ]
     },
     "execution_count": 27,
     "metadata": {},
     "output_type": "execute_result"
    }
   ],
   "source": [
    "df4.isnull().sum()"
   ]
  },
  {
   "cell_type": "code",
   "execution_count": 28,
   "id": "41889bf4",
   "metadata": {},
   "outputs": [
    {
     "data": {
      "text/html": [
       "<div>\n",
       "<style scoped>\n",
       "    .dataframe tbody tr th:only-of-type {\n",
       "        vertical-align: middle;\n",
       "    }\n",
       "\n",
       "    .dataframe tbody tr th {\n",
       "        vertical-align: top;\n",
       "    }\n",
       "\n",
       "    .dataframe thead th {\n",
       "        text-align: right;\n",
       "    }\n",
       "</style>\n",
       "<table border=\"1\" class=\"dataframe\">\n",
       "  <thead>\n",
       "    <tr style=\"text-align: right;\">\n",
       "      <th></th>\n",
       "      <th>player_id</th>\n",
       "      <th>name</th>\n",
       "      <th>last_season</th>\n",
       "      <th>current_club_id</th>\n",
       "      <th>player_code</th>\n",
       "      <th>country_of_birth</th>\n",
       "      <th>date_of_birth</th>\n",
       "      <th>sub_position</th>\n",
       "      <th>position</th>\n",
       "      <th>foot</th>\n",
       "      <th>height_in_cm</th>\n",
       "      <th>market_value_in_eur</th>\n",
       "      <th>highest_market_value_in_eur</th>\n",
       "      <th>contract_expiration_date</th>\n",
       "      <th>agent_name</th>\n",
       "    </tr>\n",
       "  </thead>\n",
       "  <tbody>\n",
       "    <tr>\n",
       "      <th>0</th>\n",
       "      <td>124732</td>\n",
       "      <td>John Anthony Brooks</td>\n",
       "      <td>2023</td>\n",
       "      <td>533</td>\n",
       "      <td>john-anthony-brooks</td>\n",
       "      <td>Germany</td>\n",
       "      <td>1993-01-28</td>\n",
       "      <td>Centre-Back</td>\n",
       "      <td>Defender</td>\n",
       "      <td>left</td>\n",
       "      <td>194.0</td>\n",
       "      <td>2000000.0</td>\n",
       "      <td>15000000.0</td>\n",
       "      <td>2024-06-30</td>\n",
       "      <td>ROGON</td>\n",
       "    </tr>\n",
       "    <tr>\n",
       "      <th>1</th>\n",
       "      <td>223047</td>\n",
       "      <td>Emerson Hyndman</td>\n",
       "      <td>2018</td>\n",
       "      <td>903</td>\n",
       "      <td>emerson-hyndman</td>\n",
       "      <td>United States</td>\n",
       "      <td>1996-04-09</td>\n",
       "      <td>Central Midfield</td>\n",
       "      <td>Midfield</td>\n",
       "      <td>right</td>\n",
       "      <td>170.0</td>\n",
       "      <td>800000.0</td>\n",
       "      <td>1800000.0</td>\n",
       "      <td>NaT</td>\n",
       "      <td>OmniSports</td>\n",
       "    </tr>\n",
       "    <tr>\n",
       "      <th>2</th>\n",
       "      <td>307781</td>\n",
       "      <td>Lynden Gooch</td>\n",
       "      <td>2016</td>\n",
       "      <td>289</td>\n",
       "      <td>lynden-gooch</td>\n",
       "      <td>United States</td>\n",
       "      <td>1995-12-24</td>\n",
       "      <td>Right Winger</td>\n",
       "      <td>Attack</td>\n",
       "      <td>right</td>\n",
       "      <td>173.0</td>\n",
       "      <td>1000000.0</td>\n",
       "      <td>1000000.0</td>\n",
       "      <td>2024-06-30</td>\n",
       "      <td>Unique Sports Group</td>\n",
       "    </tr>\n",
       "    <tr>\n",
       "      <th>3</th>\n",
       "      <td>370846</td>\n",
       "      <td>Timothy Weah</td>\n",
       "      <td>2023</td>\n",
       "      <td>506</td>\n",
       "      <td>timothy-weah</td>\n",
       "      <td>United States</td>\n",
       "      <td>2000-02-22</td>\n",
       "      <td>Right Midfield</td>\n",
       "      <td>Midfield</td>\n",
       "      <td>right</td>\n",
       "      <td>183.0</td>\n",
       "      <td>14000000.0</td>\n",
       "      <td>15000000.0</td>\n",
       "      <td>2028-06-30</td>\n",
       "      <td>BS Group - BS Law</td>\n",
       "    </tr>\n",
       "    <tr>\n",
       "      <th>4</th>\n",
       "      <td>484756</td>\n",
       "      <td>Djordje Mihailovic</td>\n",
       "      <td>2023</td>\n",
       "      <td>1090</td>\n",
       "      <td>djordje-mihailovic</td>\n",
       "      <td>United States</td>\n",
       "      <td>1998-11-10</td>\n",
       "      <td>Attacking Midfield</td>\n",
       "      <td>Midfield</td>\n",
       "      <td>NaN</td>\n",
       "      <td>178.0</td>\n",
       "      <td>5000000.0</td>\n",
       "      <td>6000000.0</td>\n",
       "      <td>2026-06-30</td>\n",
       "      <td>YMU Management Ltd.</td>\n",
       "    </tr>\n",
       "  </tbody>\n",
       "</table>\n",
       "</div>"
      ],
      "text/plain": [
       "   player_id                 name  last_season  current_club_id  \\\n",
       "0     124732  John Anthony Brooks         2023              533   \n",
       "1     223047      Emerson Hyndman         2018              903   \n",
       "2     307781         Lynden Gooch         2016              289   \n",
       "3     370846         Timothy Weah         2023              506   \n",
       "4     484756   Djordje Mihailovic         2023             1090   \n",
       "\n",
       "           player_code country_of_birth date_of_birth        sub_position  \\\n",
       "0  john-anthony-brooks          Germany    1993-01-28         Centre-Back   \n",
       "1      emerson-hyndman    United States    1996-04-09    Central Midfield   \n",
       "2         lynden-gooch    United States    1995-12-24        Right Winger   \n",
       "3         timothy-weah    United States    2000-02-22      Right Midfield   \n",
       "4   djordje-mihailovic    United States    1998-11-10  Attacking Midfield   \n",
       "\n",
       "   position   foot  height_in_cm  market_value_in_eur  \\\n",
       "0  Defender   left         194.0            2000000.0   \n",
       "1  Midfield  right         170.0             800000.0   \n",
       "2    Attack  right         173.0            1000000.0   \n",
       "3  Midfield  right         183.0           14000000.0   \n",
       "4  Midfield    NaN         178.0            5000000.0   \n",
       "\n",
       "   highest_market_value_in_eur contract_expiration_date           agent_name  \n",
       "0                   15000000.0               2024-06-30                ROGON  \n",
       "1                    1800000.0                      NaT           OmniSports  \n",
       "2                    1000000.0               2024-06-30  Unique Sports Group  \n",
       "3                   15000000.0               2028-06-30    BS Group - BS Law  \n",
       "4                    6000000.0               2026-06-30  YMU Management Ltd.  "
      ]
     },
     "execution_count": 28,
     "metadata": {},
     "output_type": "execute_result"
    }
   ],
   "source": [
    "#loading 5th data.\n",
    "\n",
    "df5 = pd.read_excel('players.xlsx')\n",
    "df5.head()\n"
   ]
  },
  {
   "cell_type": "code",
   "execution_count": 29,
   "id": "eee05e57",
   "metadata": {},
   "outputs": [
    {
     "data": {
      "text/plain": [
       "(152, 15)"
      ]
     },
     "execution_count": 29,
     "metadata": {},
     "output_type": "execute_result"
    }
   ],
   "source": [
    "df5.shape"
   ]
  },
  {
   "cell_type": "code",
   "execution_count": 30,
   "id": "fc92c85d",
   "metadata": {},
   "outputs": [
    {
     "data": {
      "text/plain": [
       "player_id                       0\n",
       "name                            0\n",
       "last_season                     0\n",
       "current_club_id                 0\n",
       "player_code                     0\n",
       "country_of_birth                0\n",
       "date_of_birth                   0\n",
       "sub_position                    0\n",
       "position                        0\n",
       "foot                           11\n",
       "height_in_cm                    3\n",
       "market_value_in_eur            38\n",
       "highest_market_value_in_eur     4\n",
       "contract_expiration_date       46\n",
       "agent_name                     45\n",
       "dtype: int64"
      ]
     },
     "execution_count": 30,
     "metadata": {},
     "output_type": "execute_result"
    }
   ],
   "source": [
    "df5.isnull().sum()"
   ]
  },
  {
   "cell_type": "code",
   "execution_count": 31,
   "id": "b40932a6",
   "metadata": {},
   "outputs": [
    {
     "data": {
      "text/plain": [
       "contract_expiration_date       30.263158\n",
       "agent_name                     29.605263\n",
       "market_value_in_eur            25.000000\n",
       "foot                            7.236842\n",
       "highest_market_value_in_eur     2.631579\n",
       "height_in_cm                    1.973684\n",
       "player_id                       0.000000\n",
       "name                            0.000000\n",
       "last_season                     0.000000\n",
       "current_club_id                 0.000000\n",
       "player_code                     0.000000\n",
       "country_of_birth                0.000000\n",
       "date_of_birth                   0.000000\n",
       "sub_position                    0.000000\n",
       "position                        0.000000\n",
       "dtype: float64"
      ]
     },
     "execution_count": 31,
     "metadata": {},
     "output_type": "execute_result"
    }
   ],
   "source": [
    "nullval5=(df5.isnull().sum()/len(df5)*100).sort_values(ascending = False)\n",
    "nullval5"
   ]
  },
  {
   "cell_type": "code",
   "execution_count": 32,
   "id": "a50ab17d",
   "metadata": {},
   "outputs": [],
   "source": [
    "df5=df5.drop(\"contract_expiration_date\",axis=1)"
   ]
  },
  {
   "cell_type": "code",
   "execution_count": 33,
   "id": "16c99e91",
   "metadata": {},
   "outputs": [
    {
     "data": {
      "text/plain": [
       "(152, 14)"
      ]
     },
     "execution_count": 33,
     "metadata": {},
     "output_type": "execute_result"
    }
   ],
   "source": [
    "df5.shape"
   ]
  },
  {
   "cell_type": "code",
   "execution_count": 34,
   "id": "e907bfa7",
   "metadata": {},
   "outputs": [],
   "source": [
    "df5=df5.drop(\"agent_name\",axis=1)"
   ]
  },
  {
   "cell_type": "code",
   "execution_count": 35,
   "id": "04dffd22",
   "metadata": {},
   "outputs": [
    {
     "data": {
      "text/plain": [
       "(152, 13)"
      ]
     },
     "execution_count": 35,
     "metadata": {},
     "output_type": "execute_result"
    }
   ],
   "source": [
    "df5.shape"
   ]
  },
  {
   "cell_type": "code",
   "execution_count": 36,
   "id": "c496775e",
   "metadata": {},
   "outputs": [
    {
     "data": {
      "text/plain": [
       "player_id                       0\n",
       "name                            0\n",
       "last_season                     0\n",
       "current_club_id                 0\n",
       "player_code                     0\n",
       "country_of_birth                0\n",
       "date_of_birth                   0\n",
       "sub_position                    0\n",
       "position                        0\n",
       "foot                           11\n",
       "height_in_cm                    3\n",
       "market_value_in_eur            38\n",
       "highest_market_value_in_eur     4\n",
       "dtype: int64"
      ]
     },
     "execution_count": 36,
     "metadata": {},
     "output_type": "execute_result"
    }
   ],
   "source": [
    "df5.isnull().sum()"
   ]
  },
  {
   "cell_type": "code",
   "execution_count": 37,
   "id": "290d1a4d",
   "metadata": {},
   "outputs": [],
   "source": [
    "df5['market_value_in_eur'].fillna(df5['market_value_in_eur'].mean(), inplace=True)"
   ]
  },
  {
   "cell_type": "code",
   "execution_count": 38,
   "id": "41abd3b2",
   "metadata": {},
   "outputs": [
    {
     "data": {
      "text/plain": [
       "player_id                       0\n",
       "name                            0\n",
       "last_season                     0\n",
       "current_club_id                 0\n",
       "player_code                     0\n",
       "country_of_birth                0\n",
       "date_of_birth                   0\n",
       "sub_position                    0\n",
       "position                        0\n",
       "foot                           11\n",
       "height_in_cm                    3\n",
       "market_value_in_eur             0\n",
       "highest_market_value_in_eur     4\n",
       "dtype: int64"
      ]
     },
     "execution_count": 38,
     "metadata": {},
     "output_type": "execute_result"
    }
   ],
   "source": [
    "df5.isnull().sum()"
   ]
  },
  {
   "cell_type": "code",
   "execution_count": 39,
   "id": "7885abc2",
   "metadata": {},
   "outputs": [],
   "source": [
    "# Merging the DataFrames using the merge() function\n",
    "\n",
    "df = pd.merge(df1, df2, on='game_id',how=\"outer\")\n",
    "df = pd.merge(df, df3, on='game_id',how=\"outer\")\n",
    "df = pd.merge(df, df4, on='game_id',how=\"outer\")\n",
    "df = pd.merge(df, df5, on='player_id',how=\"outer\")"
   ]
  },
  {
   "cell_type": "code",
   "execution_count": 40,
   "id": "3fdf99e2",
   "metadata": {},
   "outputs": [
    {
     "data": {
      "text/html": [
       "<div>\n",
       "<style scoped>\n",
       "    .dataframe tbody tr th:only-of-type {\n",
       "        vertical-align: middle;\n",
       "    }\n",
       "\n",
       "    .dataframe tbody tr th {\n",
       "        vertical-align: top;\n",
       "    }\n",
       "\n",
       "    .dataframe thead th {\n",
       "        text-align: right;\n",
       "    }\n",
       "</style>\n",
       "<table border=\"1\" class=\"dataframe\">\n",
       "  <thead>\n",
       "    <tr style=\"text-align: right;\">\n",
       "      <th></th>\n",
       "      <th>game_id</th>\n",
       "      <th>competition_id_x</th>\n",
       "      <th>season</th>\n",
       "      <th>round</th>\n",
       "      <th>date_x</th>\n",
       "      <th>home_club_goals</th>\n",
       "      <th>away_club_goals</th>\n",
       "      <th>home_club_position</th>\n",
       "      <th>away_club_position</th>\n",
       "      <th>home_club_manager_name</th>\n",
       "      <th>...</th>\n",
       "      <th>current_club_id</th>\n",
       "      <th>player_code</th>\n",
       "      <th>country_of_birth</th>\n",
       "      <th>date_of_birth</th>\n",
       "      <th>sub_position</th>\n",
       "      <th>position_y</th>\n",
       "      <th>foot</th>\n",
       "      <th>height_in_cm</th>\n",
       "      <th>market_value_in_eur</th>\n",
       "      <th>highest_market_value_in_eur</th>\n",
       "    </tr>\n",
       "  </thead>\n",
       "  <tbody>\n",
       "    <tr>\n",
       "      <th>0</th>\n",
       "      <td>2222734.0</td>\n",
       "      <td>RU1</td>\n",
       "      <td>2012.0</td>\n",
       "      <td>19. Matchday</td>\n",
       "      <td>2012-12-07</td>\n",
       "      <td>2.0</td>\n",
       "      <td>3.0</td>\n",
       "      <td>11.0</td>\n",
       "      <td>10.0</td>\n",
       "      <td>Miodrag Bozovic</td>\n",
       "      <td>...</td>\n",
       "      <td>6992.0</td>\n",
       "      <td>eugene-starikov</td>\n",
       "      <td>UdSSR</td>\n",
       "      <td>1988-11-17</td>\n",
       "      <td>Centre-Forward</td>\n",
       "      <td>Attack</td>\n",
       "      <td>right</td>\n",
       "      <td>175.0</td>\n",
       "      <td>3.694298e+06</td>\n",
       "      <td>500000.0</td>\n",
       "    </tr>\n",
       "    <tr>\n",
       "      <th>1</th>\n",
       "      <td>2598832.0</td>\n",
       "      <td>UKR1</td>\n",
       "      <td>2015.0</td>\n",
       "      <td>9. Matchday</td>\n",
       "      <td>2015-09-27</td>\n",
       "      <td>0.0</td>\n",
       "      <td>0.0</td>\n",
       "      <td>11.0</td>\n",
       "      <td>5.0</td>\n",
       "      <td>Oleksandr Babych</td>\n",
       "      <td>...</td>\n",
       "      <td>6992.0</td>\n",
       "      <td>eugene-starikov</td>\n",
       "      <td>UdSSR</td>\n",
       "      <td>1988-11-17</td>\n",
       "      <td>Centre-Forward</td>\n",
       "      <td>Attack</td>\n",
       "      <td>right</td>\n",
       "      <td>175.0</td>\n",
       "      <td>3.694298e+06</td>\n",
       "      <td>500000.0</td>\n",
       "    </tr>\n",
       "    <tr>\n",
       "      <th>2</th>\n",
       "      <td>2222798.0</td>\n",
       "      <td>RU1</td>\n",
       "      <td>2012.0</td>\n",
       "      <td>24. Matchday</td>\n",
       "      <td>2013-04-14</td>\n",
       "      <td>1.0</td>\n",
       "      <td>1.0</td>\n",
       "      <td>4.0</td>\n",
       "      <td>11.0</td>\n",
       "      <td>Kurban Berdyev</td>\n",
       "      <td>...</td>\n",
       "      <td>6992.0</td>\n",
       "      <td>eugene-starikov</td>\n",
       "      <td>UdSSR</td>\n",
       "      <td>1988-11-17</td>\n",
       "      <td>Centre-Forward</td>\n",
       "      <td>Attack</td>\n",
       "      <td>right</td>\n",
       "      <td>175.0</td>\n",
       "      <td>3.694298e+06</td>\n",
       "      <td>500000.0</td>\n",
       "    </tr>\n",
       "    <tr>\n",
       "      <th>3</th>\n",
       "      <td>2619433.0</td>\n",
       "      <td>UKRP</td>\n",
       "      <td>2015.0</td>\n",
       "      <td>last 16 1st leg</td>\n",
       "      <td>2015-09-23</td>\n",
       "      <td>0.0</td>\n",
       "      <td>1.0</td>\n",
       "      <td>NaN</td>\n",
       "      <td>NaN</td>\n",
       "      <td>Oleksandr Babych</td>\n",
       "      <td>...</td>\n",
       "      <td>6992.0</td>\n",
       "      <td>eugene-starikov</td>\n",
       "      <td>UdSSR</td>\n",
       "      <td>1988-11-17</td>\n",
       "      <td>Centre-Forward</td>\n",
       "      <td>Attack</td>\n",
       "      <td>right</td>\n",
       "      <td>175.0</td>\n",
       "      <td>3.694298e+06</td>\n",
       "      <td>500000.0</td>\n",
       "    </tr>\n",
       "    <tr>\n",
       "      <th>4</th>\n",
       "      <td>2598841.0</td>\n",
       "      <td>UKR1</td>\n",
       "      <td>2015.0</td>\n",
       "      <td>10. Matchday</td>\n",
       "      <td>2015-10-03</td>\n",
       "      <td>2.0</td>\n",
       "      <td>0.0</td>\n",
       "      <td>2.0</td>\n",
       "      <td>11.0</td>\n",
       "      <td>Mircea Lucescu</td>\n",
       "      <td>...</td>\n",
       "      <td>6992.0</td>\n",
       "      <td>eugene-starikov</td>\n",
       "      <td>UdSSR</td>\n",
       "      <td>1988-11-17</td>\n",
       "      <td>Centre-Forward</td>\n",
       "      <td>Attack</td>\n",
       "      <td>right</td>\n",
       "      <td>175.0</td>\n",
       "      <td>3.694298e+06</td>\n",
       "      <td>500000.0</td>\n",
       "    </tr>\n",
       "  </tbody>\n",
       "</table>\n",
       "<p>5 rows × 52 columns</p>\n",
       "</div>"
      ],
      "text/plain": [
       "     game_id competition_id_x  season            round     date_x  \\\n",
       "0  2222734.0              RU1  2012.0     19. Matchday 2012-12-07   \n",
       "1  2598832.0             UKR1  2015.0      9. Matchday 2015-09-27   \n",
       "2  2222798.0              RU1  2012.0     24. Matchday 2013-04-14   \n",
       "3  2619433.0             UKRP  2015.0  last 16 1st leg 2015-09-23   \n",
       "4  2598841.0             UKR1  2015.0     10. Matchday 2015-10-03   \n",
       "\n",
       "   home_club_goals  away_club_goals  home_club_position  away_club_position  \\\n",
       "0              2.0              3.0                11.0                10.0   \n",
       "1              0.0              0.0                11.0                 5.0   \n",
       "2              1.0              1.0                 4.0                11.0   \n",
       "3              0.0              1.0                 NaN                 NaN   \n",
       "4              2.0              0.0                 2.0                11.0   \n",
       "\n",
       "  home_club_manager_name  ... current_club_id      player_code  \\\n",
       "0        Miodrag Bozovic  ...          6992.0  eugene-starikov   \n",
       "1       Oleksandr Babych  ...          6992.0  eugene-starikov   \n",
       "2         Kurban Berdyev  ...          6992.0  eugene-starikov   \n",
       "3       Oleksandr Babych  ...          6992.0  eugene-starikov   \n",
       "4         Mircea Lucescu  ...          6992.0  eugene-starikov   \n",
       "\n",
       "   country_of_birth date_of_birth    sub_position position_y   foot  \\\n",
       "0             UdSSR    1988-11-17  Centre-Forward     Attack  right   \n",
       "1             UdSSR    1988-11-17  Centre-Forward     Attack  right   \n",
       "2             UdSSR    1988-11-17  Centre-Forward     Attack  right   \n",
       "3             UdSSR    1988-11-17  Centre-Forward     Attack  right   \n",
       "4             UdSSR    1988-11-17  Centre-Forward     Attack  right   \n",
       "\n",
       "  height_in_cm market_value_in_eur highest_market_value_in_eur  \n",
       "0        175.0        3.694298e+06                    500000.0  \n",
       "1        175.0        3.694298e+06                    500000.0  \n",
       "2        175.0        3.694298e+06                    500000.0  \n",
       "3        175.0        3.694298e+06                    500000.0  \n",
       "4        175.0        3.694298e+06                    500000.0  \n",
       "\n",
       "[5 rows x 52 columns]"
      ]
     },
     "execution_count": 40,
     "metadata": {},
     "output_type": "execute_result"
    }
   ],
   "source": [
    "df.head()"
   ]
  },
  {
   "cell_type": "code",
   "execution_count": 41,
   "id": "1fff74e0",
   "metadata": {},
   "outputs": [
    {
     "data": {
      "text/plain": [
       "(4746, 52)"
      ]
     },
     "execution_count": 41,
     "metadata": {},
     "output_type": "execute_result"
    }
   ],
   "source": [
    "df.shape"
   ]
  },
  {
   "cell_type": "code",
   "execution_count": 42,
   "id": "5ff93237",
   "metadata": {},
   "outputs": [
    {
     "data": {
      "text/plain": [
       "Index(['game_id', 'competition_id_x', 'season', 'round', 'date_x',\n",
       "       'home_club_goals', 'away_club_goals', 'home_club_position',\n",
       "       'away_club_position', 'home_club_manager_name',\n",
       "       'away_club_manager_name', 'stadium', 'attendance', 'referee',\n",
       "       'home_club_name', 'away_club_name', 'aggregate', 'competition_type',\n",
       "       'game_event_id', 'date_y', 'minute', 'type_x', 'player_id_x',\n",
       "       'game_lineups_id', 'type_y', 'number', 'player_id_y', 'player_name_x',\n",
       "       'team_captain', 'position_x', 'appearance_id', 'player_id', 'date',\n",
       "       'player_name_y', 'competition_id_y', 'yellow_cards', 'red_cards',\n",
       "       'goals', 'assists', 'minutes_played', 'name', 'last_season',\n",
       "       'current_club_id', 'player_code', 'country_of_birth', 'date_of_birth',\n",
       "       'sub_position', 'position_y', 'foot', 'height_in_cm',\n",
       "       'market_value_in_eur', 'highest_market_value_in_eur'],\n",
       "      dtype='object')"
      ]
     },
     "execution_count": 42,
     "metadata": {},
     "output_type": "execute_result"
    }
   ],
   "source": [
    "df.columns"
   ]
  },
  {
   "cell_type": "code",
   "execution_count": 46,
   "id": "374e69d3",
   "metadata": {},
   "outputs": [
    {
     "data": {
      "text/html": [
       "<div>\n",
       "<style scoped>\n",
       "    .dataframe tbody tr th:only-of-type {\n",
       "        vertical-align: middle;\n",
       "    }\n",
       "\n",
       "    .dataframe tbody tr th {\n",
       "        vertical-align: top;\n",
       "    }\n",
       "\n",
       "    .dataframe thead th {\n",
       "        text-align: right;\n",
       "    }\n",
       "</style>\n",
       "<table border=\"1\" class=\"dataframe\">\n",
       "  <thead>\n",
       "    <tr style=\"text-align: right;\">\n",
       "      <th></th>\n",
       "      <th>game_id</th>\n",
       "      <th>competition_id_x</th>\n",
       "      <th>season</th>\n",
       "      <th>round</th>\n",
       "      <th>date_x</th>\n",
       "      <th>home_club_goals</th>\n",
       "      <th>away_club_goals</th>\n",
       "      <th>home_club_position</th>\n",
       "      <th>away_club_position</th>\n",
       "      <th>home_club_manager_name</th>\n",
       "      <th>...</th>\n",
       "      <th>current_club_id</th>\n",
       "      <th>player_code</th>\n",
       "      <th>country_of_birth</th>\n",
       "      <th>date_of_birth</th>\n",
       "      <th>sub_position</th>\n",
       "      <th>position_y</th>\n",
       "      <th>foot</th>\n",
       "      <th>height_in_cm</th>\n",
       "      <th>market_value_in_eur</th>\n",
       "      <th>highest_market_value_in_eur</th>\n",
       "    </tr>\n",
       "  </thead>\n",
       "  <tbody>\n",
       "    <tr>\n",
       "      <th>0</th>\n",
       "      <td>2222734.0</td>\n",
       "      <td>RU1</td>\n",
       "      <td>2012.0</td>\n",
       "      <td>19. Matchday</td>\n",
       "      <td>2012-12-07</td>\n",
       "      <td>2.0</td>\n",
       "      <td>3.0</td>\n",
       "      <td>11.0</td>\n",
       "      <td>10.0</td>\n",
       "      <td>Miodrag Bozovic</td>\n",
       "      <td>...</td>\n",
       "      <td>6992.0</td>\n",
       "      <td>eugene-starikov</td>\n",
       "      <td>UdSSR</td>\n",
       "      <td>1988-11-17</td>\n",
       "      <td>Centre-Forward</td>\n",
       "      <td>Attack</td>\n",
       "      <td>right</td>\n",
       "      <td>175.0</td>\n",
       "      <td>3.694298e+06</td>\n",
       "      <td>500000.0</td>\n",
       "    </tr>\n",
       "    <tr>\n",
       "      <th>1</th>\n",
       "      <td>2598832.0</td>\n",
       "      <td>UKR1</td>\n",
       "      <td>2015.0</td>\n",
       "      <td>9. Matchday</td>\n",
       "      <td>2015-09-27</td>\n",
       "      <td>0.0</td>\n",
       "      <td>0.0</td>\n",
       "      <td>11.0</td>\n",
       "      <td>5.0</td>\n",
       "      <td>Oleksandr Babych</td>\n",
       "      <td>...</td>\n",
       "      <td>6992.0</td>\n",
       "      <td>eugene-starikov</td>\n",
       "      <td>UdSSR</td>\n",
       "      <td>1988-11-17</td>\n",
       "      <td>Centre-Forward</td>\n",
       "      <td>Attack</td>\n",
       "      <td>right</td>\n",
       "      <td>175.0</td>\n",
       "      <td>3.694298e+06</td>\n",
       "      <td>500000.0</td>\n",
       "    </tr>\n",
       "    <tr>\n",
       "      <th>2</th>\n",
       "      <td>2222798.0</td>\n",
       "      <td>RU1</td>\n",
       "      <td>2012.0</td>\n",
       "      <td>24. Matchday</td>\n",
       "      <td>2013-04-14</td>\n",
       "      <td>1.0</td>\n",
       "      <td>1.0</td>\n",
       "      <td>4.0</td>\n",
       "      <td>11.0</td>\n",
       "      <td>Kurban Berdyev</td>\n",
       "      <td>...</td>\n",
       "      <td>6992.0</td>\n",
       "      <td>eugene-starikov</td>\n",
       "      <td>UdSSR</td>\n",
       "      <td>1988-11-17</td>\n",
       "      <td>Centre-Forward</td>\n",
       "      <td>Attack</td>\n",
       "      <td>right</td>\n",
       "      <td>175.0</td>\n",
       "      <td>3.694298e+06</td>\n",
       "      <td>500000.0</td>\n",
       "    </tr>\n",
       "    <tr>\n",
       "      <th>3</th>\n",
       "      <td>2619433.0</td>\n",
       "      <td>UKRP</td>\n",
       "      <td>2015.0</td>\n",
       "      <td>last 16 1st leg</td>\n",
       "      <td>2015-09-23</td>\n",
       "      <td>0.0</td>\n",
       "      <td>1.0</td>\n",
       "      <td>NaN</td>\n",
       "      <td>NaN</td>\n",
       "      <td>Oleksandr Babych</td>\n",
       "      <td>...</td>\n",
       "      <td>6992.0</td>\n",
       "      <td>eugene-starikov</td>\n",
       "      <td>UdSSR</td>\n",
       "      <td>1988-11-17</td>\n",
       "      <td>Centre-Forward</td>\n",
       "      <td>Attack</td>\n",
       "      <td>right</td>\n",
       "      <td>175.0</td>\n",
       "      <td>3.694298e+06</td>\n",
       "      <td>500000.0</td>\n",
       "    </tr>\n",
       "    <tr>\n",
       "      <th>4</th>\n",
       "      <td>2598841.0</td>\n",
       "      <td>UKR1</td>\n",
       "      <td>2015.0</td>\n",
       "      <td>10. Matchday</td>\n",
       "      <td>2015-10-03</td>\n",
       "      <td>2.0</td>\n",
       "      <td>0.0</td>\n",
       "      <td>2.0</td>\n",
       "      <td>11.0</td>\n",
       "      <td>Mircea Lucescu</td>\n",
       "      <td>...</td>\n",
       "      <td>6992.0</td>\n",
       "      <td>eugene-starikov</td>\n",
       "      <td>UdSSR</td>\n",
       "      <td>1988-11-17</td>\n",
       "      <td>Centre-Forward</td>\n",
       "      <td>Attack</td>\n",
       "      <td>right</td>\n",
       "      <td>175.0</td>\n",
       "      <td>3.694298e+06</td>\n",
       "      <td>500000.0</td>\n",
       "    </tr>\n",
       "  </tbody>\n",
       "</table>\n",
       "<p>5 rows × 52 columns</p>\n",
       "</div>"
      ],
      "text/plain": [
       "     game_id competition_id_x  season            round     date_x  \\\n",
       "0  2222734.0              RU1  2012.0     19. Matchday 2012-12-07   \n",
       "1  2598832.0             UKR1  2015.0      9. Matchday 2015-09-27   \n",
       "2  2222798.0              RU1  2012.0     24. Matchday 2013-04-14   \n",
       "3  2619433.0             UKRP  2015.0  last 16 1st leg 2015-09-23   \n",
       "4  2598841.0             UKR1  2015.0     10. Matchday 2015-10-03   \n",
       "\n",
       "   home_club_goals  away_club_goals  home_club_position  away_club_position  \\\n",
       "0              2.0              3.0                11.0                10.0   \n",
       "1              0.0              0.0                11.0                 5.0   \n",
       "2              1.0              1.0                 4.0                11.0   \n",
       "3              0.0              1.0                 NaN                 NaN   \n",
       "4              2.0              0.0                 2.0                11.0   \n",
       "\n",
       "  home_club_manager_name  ... current_club_id      player_code  \\\n",
       "0        Miodrag Bozovic  ...          6992.0  eugene-starikov   \n",
       "1       Oleksandr Babych  ...          6992.0  eugene-starikov   \n",
       "2         Kurban Berdyev  ...          6992.0  eugene-starikov   \n",
       "3       Oleksandr Babych  ...          6992.0  eugene-starikov   \n",
       "4         Mircea Lucescu  ...          6992.0  eugene-starikov   \n",
       "\n",
       "   country_of_birth date_of_birth    sub_position position_y   foot  \\\n",
       "0             UdSSR    1988-11-17  Centre-Forward     Attack  right   \n",
       "1             UdSSR    1988-11-17  Centre-Forward     Attack  right   \n",
       "2             UdSSR    1988-11-17  Centre-Forward     Attack  right   \n",
       "3             UdSSR    1988-11-17  Centre-Forward     Attack  right   \n",
       "4             UdSSR    1988-11-17  Centre-Forward     Attack  right   \n",
       "\n",
       "  height_in_cm market_value_in_eur highest_market_value_in_eur  \n",
       "0        175.0        3.694298e+06                    500000.0  \n",
       "1        175.0        3.694298e+06                    500000.0  \n",
       "2        175.0        3.694298e+06                    500000.0  \n",
       "3        175.0        3.694298e+06                    500000.0  \n",
       "4        175.0        3.694298e+06                    500000.0  \n",
       "\n",
       "[5 rows x 52 columns]"
      ]
     },
     "execution_count": 46,
     "metadata": {},
     "output_type": "execute_result"
    }
   ],
   "source": [
    "df.head()"
   ]
  },
  {
   "cell_type": "code",
   "execution_count": 48,
   "id": "bc029dc7",
   "metadata": {},
   "outputs": [],
   "source": [
    "import mysql.connector\n",
    "import pandas as pd\n",
    "\n",
    "# MySQL server details\n",
    "host = 'localhost'\n",
    "user = 'root'\n",
    "password = 'amaan'\n",
    "database_name = 'footballdb'\n",
    "\n",
    "# Establish connection to MySQL\n",
    "conn = mysql.connector.connect(host=host, user=user, password=password)\n",
    "cursor = conn.cursor()\n",
    "\n",
    "# Create database if it doesn't exist\n",
    "cursor.execute(f\"CREATE DATABASE IF NOT EXISTS {database_name}\")\n",
    "cursor.execute(f\"USE {database_name}\")\n",
    "\n",
    "cursor.close()\n",
    "conn.close() "
   ]
  },
  {
   "cell_type": "code",
   "execution_count": 50,
   "id": "4812d3b3",
   "metadata": {},
   "outputs": [
    {
     "data": {
      "text/plain": [
       "4746"
      ]
     },
     "execution_count": 50,
     "metadata": {},
     "output_type": "execute_result"
    }
   ],
   "source": [
    "from sqlalchemy import create_engine\n",
    "\n",
    "# Replace 'your_table with the desired tabte name\n",
    "cleandf = 'cleandf'\n",
    "\n",
    "# Connect to MySQL using SQLALchemy\n",
    "engine = create_engine(f'mysql+mysqlconnector://{user}:{password}@{host}/{database_name}')\n",
    "\n",
    "# Export DataFrame to MySQL\n",
    "df.to_sql(name=cleandf, con=engine, if_exists='replace', index=False)"
   ]
  },
  {
   "cell_type": "code",
   "execution_count": 53,
   "id": "de5fa534",
   "metadata": {},
   "outputs": [],
   "source": [
    "df.to_csv(r'DOWNLOADS\\Capstone.csv')"
   ]
  },
  {
   "cell_type": "code",
   "execution_count": 52,
   "id": "0d83af98",
   "metadata": {},
   "outputs": [],
   "source": [
    "df.to_excel(r'DOWNLOADS\\Capstone.xlsx', index=False)"
   ]
  },
  {
   "cell_type": "code",
   "execution_count": null,
   "id": "0c3cef6b",
   "metadata": {},
   "outputs": [],
   "source": []
  }
 ],
 "metadata": {
  "kernelspec": {
   "display_name": "Python 3 (ipykernel)",
   "language": "python",
   "name": "python3"
  },
  "language_info": {
   "codemirror_mode": {
    "name": "ipython",
    "version": 3
   },
   "file_extension": ".py",
   "mimetype": "text/x-python",
   "name": "python",
   "nbconvert_exporter": "python",
   "pygments_lexer": "ipython3",
   "version": "3.11.5"
  }
 },
 "nbformat": 4,
 "nbformat_minor": 5
}
